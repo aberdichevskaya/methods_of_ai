{
 "cells": [
  {
   "cell_type": "code",
   "execution_count": 63,
   "metadata": {},
   "outputs": [
    {
     "name": "stderr",
     "output_type": "stream",
     "text": [
      "[nltk_data] Downloading package punkt to\n",
      "[nltk_data]     C:\\Users\\anna_\\AppData\\Roaming\\nltk_data...\n",
      "[nltk_data]   Package punkt is already up-to-date!\n"
     ]
    }
   ],
   "source": [
    "import nltk\n",
    "nltk.download('punkt')\n",
    "from nltk.stem import PorterStemmer, WordNetLemmatizer\n",
    "from nltk.corpus import wordnet\n",
    "import random\n",
    "import pymorphy2\n",
    "\n",
    "\n",
    "stage = 3\n",
    "continents = ['Америка', 'Африка', 'Европа', 'Азия' ]\n",
    "#stage == 1 -> 'Готовы начать?'\n",
    "#stage == 2 -> 'Какой континент?'\n",
    "\n",
    "def handler(event, context):\n",
    "    text = 'Hello! I\\'ll repeat anything you say to me.'\n",
    "    if 'request' in event and \\\n",
    "            'original_utterance' in event['request'] \\\n",
    "            and len(event['request']['original_utterance']) > 0:\n",
    "        text = event['request']['original_utterance']\n",
    "    return {\n",
    "        'version': event['version'],\n",
    "        'session': event['session'],\n",
    "        'response': {\n",
    "            'text': text,\n",
    "            'end_session': 'false'\n",
    "        },\n",
    "    }\n",
    "\n",
    "\n",
    "def lemmatization(text):\n",
    "    tokens = nltk.word_tokenize(text)\n",
    "    morph = pymorphy2.MorphAnalyzer()\n",
    "    for word in tokens:\n",
    "        morph.parse(word)[0].normal_form\n",
    "    return tokens\n",
    "\n",
    "def filter_countries(text):\n",
    "    tokens = nltk.word_tokenize(text)\n",
    "    tokens = lemmatization(tokens)\n",
    "\n",
    "    \n",
    "def create_response(event, text):\n",
    "    tokens = lemmatization(text)\n",
    "    buttons = []\n",
    "    positive = ['да', 'нравится', 'конечно', 'ага']\n",
    "    negative = ['нет', 'не нравится', 'фу', 'не-а']\n",
    "    if '?' in tokens:\n",
    "        idx1 = random.randint(0, len(positive)-1)\n",
    "        idx2 = random.randint(0, len(negative)-1)\n",
    "        if stage == 1:\n",
    "            if(idx1 == 1):\n",
    "                idx1 += 1\n",
    "            buttons.append({'title' : positive[idx1]})\n",
    "        elif stage == 2:\n",
    "            for c in continents:\n",
    "                buttons.append({'title' : c})\n",
    "        else:\n",
    "            buttons.append({'title' : positive[idx1]})\n",
    "            buttons.append({'title' : negative[idx2]})\n",
    "    return {\n",
    "        'version': event['version'],\n",
    "        'session': event['session'],\n",
    "        'response': {\n",
    "            'text': text,\n",
    "            'buttons' : buttons,\n",
    "            'end_session': 'false'\n",
    "        },\n",
    "    }\n",
    " \n",
    "    "
   ]
  },
  {
   "cell_type": "code",
   "execution_count": 64,
   "metadata": {},
   "outputs": [],
   "source": [
    "#список стран\n",
    "countries = {\n",
    "    'Франция': ['Европа', 'культура', 'отдых', 'горы', 'лыжи', 'море', 'водоёмы', 'сёрфинг'],\n",
    "    'Испания' : ['Европа', 'культура', 'отдых', 'горы', 'лыжи', 'море', 'ночная жизнь'],\n",
    "    'Италия' : ['Европа', 'культура', 'отдых', 'горы', 'лыжи', 'море', 'водоёмы'],\n",
    "    'Великобритания': ['Европа', 'культура', 'море', 'водоёмы',  'сёрфинг'],\n",
    "    'Турция' : ['Европа', 'культура', 'отдых', 'море'],\n",
    "    'Греция' : ['Европа', 'культура', 'отдых', 'море', 'ночная жизнь'],\n",
    "    'Нидерланды' : ['Европа', 'культура', 'море'],\n",
    "    'Швейцария' : ['Европа', 'лыжи', 'горы', 'водоёмы'],\n",
    "    'Австрия' : ['Европа', 'культура', 'отдых', 'горы', 'лыжи','водоёмы'],\n",
    "    'Германия' : ['Европа', 'культура', 'горы', 'лыжи', 'ночная жизнь', 'водоёмы'],\n",
    "    \n",
    "    \n",
    "    'США' : ['Америка', 'море', 'горы', 'пустыня', 'лыжи', 'отдых', \n",
    "             'культура', 'дикая природа', 'водоёмы',  'сёрфинг'],\n",
    "    'Мексика' : ['Америка', 'море', 'горы','пустыня','древность', 'ночная жизнь', 'дайвинг'],\n",
    "    \n",
    "    \n",
    "    'Китай' : ['Азия', 'море', 'горы','культура', 'ночная жизнь','пустыня',\n",
    "               'дикая природа', 'водоёмы',  'сёрфинг'],\n",
    "    'Таиланд' : ['Азия', 'море', 'отдых', 'ночная жизнь','водоёмы'],\n",
    "    'Сингапур' : ['Азия', 'культура', 'ночная жизнь'],\n",
    "    \n",
    "    'Марокко' : ['Африка', 'море', 'горы',  'пустыня', 'ночная жизнь'],\n",
    "    'ЮАР' : ['Африка', 'море', 'горы', 'пустыня', 'дикая природа', 'дайвинг',  'сёрфинг'],\n",
    "    'Тунис' : ['Африка', 'море', 'горы', 'пустыня', 'отдых'],\n",
    "    'Египет' : ['Африка', 'море', 'пустыня', 'культура', 'отдых', 'дайвинг'],\n",
    "    'Зимбабве' : ['Африка', 'горы', 'дикая природа'],\n",
    "    'Алжир' : ['Африка', 'море', 'горы', 'пустыня'],\n",
    "    'ОАЭ' : ['Африка', 'море', 'отдых', 'культура', 'дикая природа']\n",
    "}\n",
    "\n",
    "\n",
    "\n",
    "\n",
    "\n",
    "clasterizator = {\n",
    "    \n",
    "    'дикая природа' : ['дикая', 'природа', 'джунгли', \"лес\"],\n",
    "    \n",
    "    'водоёмы' : ['река', 'озеро'],\n",
    "    \n",
    "    'горы' : ['горы', 'водопад'],\n",
    "    \n",
    "    'пустыня' : ['пустыня'],\n",
    "    \n",
    "    'море' : ['море', 'океан'],\n",
    "    \n",
    "    \n",
    "    \n",
    "    'ночная жизнь' : ['бар', 'клуб', 'дискотека', 'тусовка', 'концерт', 'ночной'],\n",
    "    \n",
    "    'культура' : ['музей', 'театр', 'опера', 'балет', 'архитектура', 'церковь'],\n",
    "    \n",
    "    \n",
    "    \n",
    "    'отдых' : ['пляж', 'отель', 'бассейн', 'загорать', 'всё включено', 'отдых'],\n",
    "    \n",
    "    \n",
    "    'лыжи' : ['лыжи', 'горнолыжный', 'сноуборд'],\n",
    "    \n",
    "    'дайвинг' : ['дайвинг'],\n",
    "    \n",
    "    'сёрфинг' : ['сёрфинг'] \n",
    "}\n",
    "\n",
    "\n",
    "\n"
   ]
  },
  {
   "cell_type": "code",
   "execution_count": 65,
   "metadata": {},
   "outputs": [],
   "source": [
    "def reverse_map(m):\n",
    "    d = {}\n",
    "    for key, value in m.items():\n",
    "        for item in value:\n",
    "            d[item] = key\n",
    "    return d"
   ]
  },
  {
   "cell_type": "code",
   "execution_count": 66,
   "metadata": {},
   "outputs": [],
   "source": [
    "def county_mining(continents, keywords):\n",
    "    candidats = {}\n",
    "    for continent in continents:\n",
    "        for country, features in countries.items():\n",
    "            if continent in features:\n",
    "                candidats[country] = features\n",
    "    candidats_score = {country : 0 for country in candidats}\n",
    "    max_score = 0\n",
    "    for key in keywords:\n",
    "        for country, features in candidats.items():\n",
    "            if key in features:\n",
    "                candidats_score[country] += 1\n",
    "                max_score = max(candidats_score[country], max_score)\n",
    "    best_countries = []\n",
    "    for country, score in candidats_score.items():\n",
    "        if score == max_score:\n",
    "            best_countries.append(country)\n",
    "    idx = 0\n",
    "    if len(best_countries) > 1:\n",
    "        idx = random.randint(0, len(best_countries)-1)\n",
    "    return best_countries[idx]"
   ]
  },
  {
   "cell_type": "code",
   "execution_count": 67,
   "metadata": {},
   "outputs": [],
   "source": [
    "result = county_mining(['Европа'], ['лыжи', 'водоёмы', 'ночная жизнь'])"
   ]
  },
  {
   "cell_type": "code",
   "execution_count": 68,
   "metadata": {},
   "outputs": [
    {
     "name": "stdout",
     "output_type": "stream",
     "text": [
      "Германия\n"
     ]
    }
   ],
   "source": [
    "print(result)"
   ]
  },
  {
   "cell_type": "code",
   "execution_count": 69,
   "metadata": {},
   "outputs": [
    {
     "data": {
      "text/plain": [
       "{'version': 1,\n",
       " 'session': 1,\n",
       " 'response': {'text': 'море или горы?',\n",
       "  'buttons': [{'title': 'нравится'}],\n",
       "  'end_session': 'false'}}"
      ]
     },
     "execution_count": 69,
     "metadata": {},
     "output_type": "execute_result"
    }
   ],
   "source": [
    "stage = 1\n",
    "create_response({'version' : 1, 'session' : 1}, 'море или горы?')"
   ]
  },
  {
   "cell_type": "code",
   "execution_count": null,
   "metadata": {},
   "outputs": [],
   "source": []
  },
  {
   "cell_type": "code",
   "execution_count": null,
   "metadata": {},
   "outputs": [],
   "source": []
  }
 ],
 "metadata": {
  "kernelspec": {
   "display_name": "Python 3",
   "language": "python",
   "name": "python3"
  },
  "language_info": {
   "codemirror_mode": {
    "name": "ipython",
    "version": 3
   },
   "file_extension": ".py",
   "mimetype": "text/x-python",
   "name": "python",
   "nbconvert_exporter": "python",
   "pygments_lexer": "ipython3",
   "version": "3.8.3"
  }
 },
 "nbformat": 4,
 "nbformat_minor": 4
}
